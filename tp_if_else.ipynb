{
 "cells": [
  {
   "cell_type": "markdown",
   "metadata": {},
   "source": [
    "# Révisions sur les structures conditionnelles\n",
    "**Remarque préliminaire**\n",
    "\n",
    "Il est préférable avant d'aborder ce travail, de traiter le TP sur les booléens accessible au lien suivant : [le lien](https://mybinder.org/v2/gh/lucponsonnet/tp_booleen/HEAD).\n",
    "\n",
    "## 1- if ou if...else\n",
    "### a) Instruction if\n",
    "\n",
    "Exécutez la *cellules Code* suivante (sélectionner la \"cellule Code\", puis cliquer sur *Exécuter* ou utiliser le raccourci clavier *CTRL + Entrée*)."
   ]
  },
  {
   "cell_type": "code",
   "execution_count": null,
   "metadata": {},
   "outputs": [],
   "source": [
    "x=11\n",
    "if x>10:\n",
    "    print(\"Vous avez la moyenne\")\n",
    "print(\"Fin\")"
   ]
  },
  {
   "cell_type": "markdown",
   "metadata": {},
   "source": [
    "On constate ici que lorsque $x$ contient l'entier 11, la condition booléenne $x>10$ est vraie donc la ligne 3 est exécutée. Une fois cette ligne 3 est exécutée, le script se poursuit, on \"sort du if\" et le script se poursuit à la ligne 4.\n",
    "\n",
    "Attention :\n",
    "* le : (deux-points) à la fin de la ligne 2 est obligatoire pour respecter la syntaxe Python.\n",
    "* L'indentation (décalage vers le droite d'une tabulation) marque les lignes qui composent le bloc du if. Ici ce bloc du if est composé de la seule ligne 2.\n",
    "* La ligne 4 n'est plus indentée, ce qui signale qu'elle ne fait plus partie du bloc du if.\n",
    "\n",
    "Exécutez la *cellules Code* suivante  :"
   ]
  },
  {
   "cell_type": "code",
   "execution_count": null,
   "metadata": {},
   "outputs": [],
   "source": [
    "x=9\n",
    "if x>10:\n",
    "    print(\"Vous avez la moyenne\")\n",
    "print(\"Fin\")"
   ]
  },
  {
   "cell_type": "markdown",
   "metadata": {},
   "source": [
    "Ici pour la valeur de 9, la condition booléenne $x>10$ de la ligne 2 est fausse donc le bloc du if n'est pas exécuté. Autrement dit on passe directement à la ligne 4 sans exécuter la ligne 3.\n",
    "\n",
    "### b) Instructions if...else\n",
    "Exécutez le script suivant :"
   ]
  },
  {
   "cell_type": "code",
   "execution_count": null,
   "metadata": {},
   "outputs": [],
   "source": [
    "x=11\n",
    "if x>10:\n",
    "    print(\"Vous avez la moyenne\")\n",
    "else:\n",
    "    print(\"Vous n'avez pas la moyenne\")\n",
    "print(\"Fin\")"
   ]
  },
  {
   "cell_type": "markdown",
   "metadata": {},
   "source": [
    "Lorsque $x$ contient l'entier 11, la condition booléenne $x>10$ est vraie donc la ligne 3 est exécutée. Une fois cette ligne 3 est exécutée, le script se poursuit, on \"sort du if\" et le else n'est pas exécuté, le script se poursuit à la ligne 6.\n",
    "\n",
    "Dans la ligne 4, le else est suivi d'un : (deux-points) sans condition booléenne.\n",
    "\n",
    "Exécutez le script suivant :"
   ]
  },
  {
   "cell_type": "code",
   "execution_count": null,
   "metadata": {},
   "outputs": [],
   "source": [
    "x=9\n",
    "if x>10:\n",
    "    print(\"Vous avez la moyenne\")\n",
    "else:\n",
    "    print(\"Vous n'avez pas la moyenne\")\n",
    "print(\"Fin\")"
   ]
  },
  {
   "cell_type": "markdown",
   "metadata": {},
   "source": [
    "Lorsque $x$ contient l'entier 9, la condition booléenne $x>10$ est fausse donc la ligne 3 n'est pas exécutée. On passe alors au else, la ligne 5 est exécutée, et le script se termine par la ligne 6."
   ]
  },
  {
   "cell_type": "markdown",
   "metadata": {},
   "source": [
    "## 2- instructions if...elif...else\n",
    "Exécuter les *cellules Code* suivantes :"
   ]
  },
  {
   "cell_type": "code",
   "execution_count": null,
   "metadata": {},
   "outputs": [],
   "source": [
    "x=-5\n",
    "if x<0:\n",
    "    print(\"Le nombre est strictement négatif\")\n",
    "elif x==0:\n",
    "    print(\"Le nombre est nul\")\n",
    "else:\n",
    "    print(\"Le nombre est strictement positif\")\n",
    "print(\"Fin\")"
   ]
  },
  {
   "cell_type": "code",
   "execution_count": null,
   "metadata": {},
   "outputs": [],
   "source": [
    "x=0\n",
    "if x<0:\n",
    "    print(\"Le nombre est strictement négatif\")\n",
    "elif x==0:\n",
    "    print(\"Le nombre est nul\")\n",
    "else:\n",
    "    print(\"Le nombre est strictement positif\")\n",
    "print(\"Fin\")"
   ]
  },
  {
   "cell_type": "code",
   "execution_count": null,
   "metadata": {},
   "outputs": [],
   "source": [
    "x=110\n",
    "if x<0:\n",
    "    print(\"Le nombre est strictement négatif\")\n",
    "elif x==0:\n",
    "    print(\"Le nombre est nul\")\n",
    "else:\n",
    "    print(\"Le nombre est strictement positif\")\n",
    "print(\"Fin\")"
   ]
  },
  {
   "cell_type": "markdown",
   "metadata": {},
   "source": [
    "A noter que :\n",
    "* elif est obligatoirement suivi d'une condition booléenne et se termine par un : (deux-points).\n",
    "* On n'est forcément dans un des trois cas : $x<10$ (cas du if) ou $x==0$ (cas du elif) ou $x>10$ (cas du else). Lorsqu'un de ces trois booléens est vrai, on passe directement à la ligne 8 puisque les autres situations ne peuvent pas arriver.\n",
    "\n",
    "Le script suivant semble donner le même résultat, pourtant il est moins performant que le précédent car chacune des lignes 3, 4 et 6 est toujours exécutée."
   ]
  },
  {
   "cell_type": "code",
   "execution_count": null,
   "metadata": {},
   "outputs": [],
   "source": [
    "x=110\n",
    "if x<0:\n",
    "    print(\"Le nombre est strictement négatif\")\n",
    "if x==0:\n",
    "    print(\"Le nombre est nul\")\n",
    "if x>0:\n",
    "    print(\"Le nombre est strictement positif\")\n",
    "print(\"Fin\")"
   ]
  },
  {
   "cell_type": "markdown",
   "metadata": {},
   "source": [
    "Il est possible d'ajouter autant de elif qu'on souhaite comme le montre l'exemple suivant :"
   ]
  },
  {
   "cell_type": "code",
   "execution_count": null,
   "metadata": {},
   "outputs": [],
   "source": [
    "def tarif(age,prix):\n",
    "    if age<=5:\n",
    "        tarif=0\n",
    "    elif age<10:\n",
    "        tarif=prix*0.5\n",
    "    elif age<15:\n",
    "        tarif=prix*0.75\n",
    "    elif age<65:\n",
    "        tarif=prix\n",
    "    else:\n",
    "        tarif=prix*0.9\n",
    "    return tarif\n",
    "\n",
    "print(tarif(25,20))"
   ]
  },
  {
   "cell_type": "markdown",
   "metadata": {},
   "source": [
    "Lorsque $age$ prend la valeur de 25, les booléens des lignes 2, 4 et 6 sont testés et sont à False. Donc les lignes qui suivent ne sont pas exécutées. Puis, le booléen de la ligne 8 est testé. Comme age<65 est True, on exécute la ligne 9, et on passe directement à la ligne 12 du return tarif."
   ]
  },
  {
   "cell_type": "markdown",
   "metadata": {},
   "source": [
    "## 3- Exercices\n",
    "\n",
    "\n",
    "<span style='color:blue'>**Exercice 1**</span> :\n",
    "\n",
    "Soit $x$ un réel. On rappelle la définition de la **valeur absolue** de x.\n",
    "\n",
    "$\\left | x \\right |=-x$ si $x\\le0$.\n",
    "\n",
    "$\\left | x \\right |=x$ si $x>0$.\n",
    "\n",
    "Compléter le script suivant pour qu'il renvoie la valeur absolue de $-5$ et de 7."
   ]
  },
  {
   "cell_type": "code",
   "execution_count": null,
   "metadata": {},
   "outputs": [],
   "source": [
    "def absolue(x):\n",
    "    if ...:\n",
    "        return -x\n",
    "    else:\n",
    "        return ...\n",
    "\n",
    "print(absolue(-5))\n",
    "print(absolue(7))"
   ]
  },
  {
   "cell_type": "markdown",
   "metadata": {},
   "source": [
    "\n",
    "<span style='color:blue'>**Exercice 2**</span> :\n",
    "\n",
    "Compléter le script ci-après pour que :\n",
    "* Si la température T est inférieure ou égale à 0°C, il affiche « C’est de la glace ».\n",
    "* Si elle est strictement supérieure à 0°C et strictement inférieure à 100°C, il affiche « C’est de l’eau liquide ».\n",
    "* Si elle est supérieure ou égale à 100°C, il affiche « C’est de la vapeur »."
   ]
  },
  {
   "cell_type": "code",
   "execution_count": null,
   "metadata": {},
   "outputs": [],
   "source": [
    "def etat(T):\n",
    "    if ...:\n",
    "        ...\n",
    "    elif...:\n",
    "        ...\n",
    "    else:\n",
    "        ...\n",
    "\n",
    "print(etat(-10))\n",
    "print(etat(50))\n",
    "print(etat(200))"
   ]
  },
  {
   "cell_type": "markdown",
   "metadata": {},
   "source": [
    "<span style='color:blue'>**Exercice 3**</span> :\n",
    "\n",
    "On souhaite modéliser le jeu de Pierre-feuille-ciseaux contre un ordinateur.\n",
    "![image1](image1.png)\n",
    "\n",
    "On suppose que l'ordinateur choisit un entier *ord* aléatoirement :\n",
    "\n",
    "* Si *ord*=1 alors l'ordinateur joue feuille\n",
    "* Si *ord*=2 alors l'ordinateur joue ciseaux\n",
    "* Si *ord*=3 alors l'ordinateur joue pierre\n",
    "\n",
    "\n",
    "L'entier *choix* représentera notre choix. De la même manière :\n",
    "\n",
    "* Si *choix*=1 alors l'ordinateur joue feuille\n",
    "* Si *choix*=2 alors l'ordinateur joue ciseaux\n",
    "* Si *choix*=3 alors l'ordinateur joue pierre\n",
    "\n",
    "De façon générale, la pierre bat les ciseaux (en les émoussant), les ciseaux battent la feuille (en la coupant), la feuille bat la pierre (en l'enveloppant).\n",
    "\n",
    "Compléter le programme suivant pour qu'il modélise le jeu contre l'ordinateur.\n"
   ]
  },
  {
   "cell_type": "code",
   "execution_count": null,
   "metadata": {},
   "outputs": [],
   "source": [
    "from random import *\n",
    "def jeu(choix):\n",
    "    ord=randint(1,3) #randint(1,3) renvoie un entier aléatoire parmi 1, 2 ou 3.\n",
    "    \n",
    "    \n",
    "print(jeu(1))"
   ]
  }
 ],
 "metadata": {
  "kernelspec": {
   "display_name": "Python 3",
   "language": "python",
   "name": "python3"
  },
  "language_info": {
   "codemirror_mode": {
    "name": "ipython",
    "version": 3
   },
   "file_extension": ".py",
   "mimetype": "text/x-python",
   "name": "python",
   "nbconvert_exporter": "python",
   "pygments_lexer": "ipython3",
   "version": "3.7.8"
  }
 },
 "nbformat": 4,
 "nbformat_minor": 4
}
